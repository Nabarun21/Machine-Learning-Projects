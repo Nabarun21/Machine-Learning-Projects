{
 "cells": [
  {
   "cell_type": "markdown",
   "metadata": {},
   "source": [
    "# Face Detection\n",
    "\n",
    "Hello! In this task you will create your own deep face detector.\n",
    "\n",
    "First of all, we need import some useful stuff."
   ]
  },
  {
   "cell_type": "code",
   "execution_count": 22,
   "metadata": {},
   "outputs": [
    {
     "name": "stdout",
     "output_type": "stream",
     "text": [
      "The autoreload extension is already loaded. To reload it, use:\n",
      "  %reload_ext autoreload\n",
      "Populating the interactive namespace from numpy and matplotlib\n"
     ]
    }
   ],
   "source": [
    "%load_ext autoreload\n",
    "%autoreload 2\n",
    "%pylab inline"
   ]
  },
  {
   "cell_type": "markdown",
   "metadata": {},
   "source": [
    "Do you have modern Nvidia [GPU](https://en.wikipedia.org/wiki/Graphics_processing_unit)? There is your video-card model in [list](https://developer.nvidia.com/cuda-gpus) and CUDA capability >= 3.0?\n",
    "\n",
    "- Yes. You can use it for fast deep learning! In this work we recommend you use tensorflow backend with GPU. Read [installation notes](https://www.tensorflow.org/install/) with attention to gpu section, install all requirements and then install GPU version `tensorflow-gpu`.\n",
    "- No. CPU is enough for this task, but you have to use only simple model. Read [installation notes](https://www.tensorflow.org/install/) and install CPU version `tensorflow`.\n",
    "\n",
    "Of course, also you should install `keras`, `matplotlib`, `numpy` and `scikit-image`."
   ]
  },
  {
   "cell_type": "code",
   "execution_count": 23,
   "metadata": {},
   "outputs": [],
   "source": [
    "from keras import backend as K"
   ]
  },
  {
   "cell_type": "code",
   "execution_count": 24,
   "metadata": {},
   "outputs": [],
   "source": [
    "from matplotlib import pyplot as plt\n",
    "import numpy as np\n",
    "from skimage import transform\n",
    "import cv2"
   ]
  },
  {
   "cell_type": "code",
   "execution_count": 25,
   "metadata": {},
   "outputs": [],
   "source": [
    "from get_data import load_dataset, unpack"
   ]
  },
  {
   "cell_type": "markdown",
   "metadata": {},
   "source": [
    "In this task we use processed [FDDB dataset](http://vis-www.cs.umass.edu/fddb/). Processing defined in file [./prepare_data.ipynb](prepare_data.ipynb) and consists of:\n",
    "\n",
    "1. Extract bboxes from dataset. In base dataset face defined by [ellipsis](http://vis-www.cs.umass.edu/fddb/samples/) that not very useful for basic neural network learning.\n",
    "2. Remove images with big and small faces on one shoot.\n",
    "3. Re-size images to bounding boxes (bboxes) have same size 32 +/- pixels.\n",
    "\n",
    "Each image in train, validation and test datasets have shape (176, 176, 3), but part of this image is black background. Interesting image aligned at top left corner.\n",
    "\n",
    "Bounding boxes define face in image and consist of 5 integer numbers: [image_index, min_row, min_col, max_row, max_col]. Bounding box width and height are 32 +/- 8 pixels wide.\n",
    "\n",
    "`train_bboxes` and `val_bboxes` is a list of bboxes.\n",
    "\n",
    "`train_shapes` and `val_shapes` is a list of interesting image shapes."
   ]
  },
  {
   "cell_type": "code",
   "execution_count": 26,
   "metadata": {},
   "outputs": [],
   "source": [
    "# First run will download 30 MB data from github\n",
    "\n",
    "train_images, train_bboxes, train_shapes = load_dataset(\"data\", \"train\")\n",
    "val_images, val_bboxes, val_shapes = load_dataset(\"data\", \"val\")"
   ]
  },
  {
   "cell_type": "code",
   "execution_count": 27,
   "metadata": {},
   "outputs": [
    {
     "name": "stdout",
     "output_type": "stream",
     "text": [
      "(176, 176, 3) \n",
      " [[[150 122  85]\n",
      "  [145 114  78]\n",
      "  [142  62  43]\n",
      "  ...\n",
      "  [  0   0   0]\n",
      "  [  0   0   0]\n",
      "  [  0   0   0]]\n",
      "\n",
      " [[150 124  87]\n",
      "  [145 105  72]\n",
      "  [133  42  27]\n",
      "  ...\n",
      "  [  0   0   0]\n",
      "  [  0   0   0]\n",
      "  [  0   0   0]]\n",
      "\n",
      " [[151 125  88]\n",
      "  [147  96  62]\n",
      "  [127  23  14]\n",
      "  ...\n",
      "  [  0   0   0]\n",
      "  [  0   0   0]\n",
      "  [  0   0   0]]\n",
      "\n",
      " ...\n",
      "\n",
      " [[  0   0   0]\n",
      "  [  0   0   0]\n",
      "  [  0   0   0]\n",
      "  ...\n",
      "  [  0   0   0]\n",
      "  [  0   0   0]\n",
      "  [  0   0   0]]\n",
      "\n",
      " [[  0   0   0]\n",
      "  [  0   0   0]\n",
      "  [  0   0   0]\n",
      "  ...\n",
      "  [  0   0   0]\n",
      "  [  0   0   0]\n",
      "  [  0   0   0]]\n",
      "\n",
      " [[  0   0   0]\n",
      "  [  0   0   0]\n",
      "  [  0   0   0]\n",
      "  ...\n",
      "  [  0   0   0]\n",
      "  [  0   0   0]\n",
      "  [  0   0   0]]]\n",
      "(176, 176, 3) [[[130 125 119]\n",
      "  [127 124 119]\n",
      "  [126 125 121]\n",
      "  ...\n",
      "  [  0   0   0]\n",
      "  [  0   0   0]\n",
      "  [  0   0   0]]\n",
      "\n",
      " [[165 141 126]\n",
      "  [145 130 120]\n",
      "  [132 126 124]\n",
      "  ...\n",
      "  [  0   0   0]\n",
      "  [  0   0   0]\n",
      "  [  0   0   0]]\n",
      "\n",
      " [[238 208 180]\n",
      "  [216 191 167]\n",
      "  [173 152 133]\n",
      "  ...\n",
      "  [  0   0   0]\n",
      "  [  0   0   0]\n",
      "  [  0   0   0]]\n",
      "\n",
      " ...\n",
      "\n",
      " [[  0   0   0]\n",
      "  [  0   0   0]\n",
      "  [  0   0   0]\n",
      "  ...\n",
      "  [  0   0   0]\n",
      "  [  0   0   0]\n",
      "  [  0   0   0]]\n",
      "\n",
      " [[  0   0   0]\n",
      "  [  0   0   0]\n",
      "  [  0   0   0]\n",
      "  ...\n",
      "  [  0   0   0]\n",
      "  [  0   0   0]\n",
      "  [  0   0   0]]\n",
      "\n",
      " [[  0   0   0]\n",
      "  [  0   0   0]\n",
      "  [  0   0   0]\n",
      "  ...\n",
      "  [  0   0   0]\n",
      "  [  0   0   0]\n",
      "  [  0   0   0]]]\n",
      "(918, 2) 1051 918\n"
     ]
    }
   ],
   "source": [
    "print(train_images[0].shape,\"\\n\",train_images[0])\n",
    "print(train_images[1].shape,train_images[1])\n",
    "print(train_shapes.shape,len(train_bboxes),len(train_images))"
   ]
  },
  {
   "cell_type": "code",
   "execution_count": 28,
   "metadata": {},
   "outputs": [
    {
     "name": "stdout",
     "output_type": "stream",
     "text": [
      "(1051, 5) \n",
      " [ 0  6 27 42 54]\n",
      "(5,) [ 5  3 32 41 58]\n"
     ]
    }
   ],
   "source": [
    "print(train_bboxes.shape,\"\\n\",train_bboxes[0])\n",
    "print(train_bboxes[10].shape,train_bboxes[6])"
   ]
  },
  {
   "cell_type": "code",
   "execution_count": 29,
   "metadata": {},
   "outputs": [
    {
     "name": "stdout",
     "output_type": "stream",
     "text": [
      "(2,) \n",
      " [65 68]\n",
      "(2,) [[ 97  97]\n",
      " [157 129]\n",
      " [ 99 132]\n",
      " [ 92  79]\n",
      " [138  90]\n",
      " [ 66  93]\n",
      " [ 86 132]\n",
      " [ 89 107]\n",
      " [115  95]\n",
      " [122 144]\n",
      " [ 64  87]\n",
      " [ 65  86]\n",
      " [121  85]\n",
      " [ 93  81]\n",
      " [ 90  74]\n",
      " [163 139]\n",
      " [ 91 123]\n",
      " [127  84]\n",
      " [ 86 103]]\n"
     ]
    }
   ],
   "source": [
    "print(train_shapes[0].shape,\"\\n\",train_shapes[0])\n",
    "print(train_shapes[1].shape,train_shapes[1:20])"
   ]
  },
  {
   "cell_type": "markdown",
   "metadata": {},
   "source": [
    "## Prepare data (1 point)\n",
    "\n",
    "For learning we should extract positive and negative samples from image.\n",
    "Positive and negative samples counts should be similar.\n",
    "Every samples should have same size."
   ]
  },
  {
   "cell_type": "code",
   "execution_count": 30,
   "metadata": {
    "scrolled": true
   },
   "outputs": [
    {
     "data": {
      "image/png": "[encoded data removed]",
      "text/plain": [
       "<Figure size 1080x216 with 5 Axes>"
      ]
     },
     "metadata": {},
     "output_type": "display_data"
    }
   ],
   "source": [
    "from graph import visualize_bboxes\n",
    "visualize_bboxes(images=train_images,\n",
    "                 true_bboxes=train_bboxes\n",
    "                )"
   ]
  },
  {
   "cell_type": "markdown",
   "metadata": {},
   "source": [
    "Every image can represent multiple faces, so we should extract all faces from every images and crop them to `SAMPLE_SHAPE`. This set of extracted images are named `positive`.\n",
    "\n",
    "Then we chould extract `negative` set. This images should have `SAMPLE_SHAPE` size. Pseudocode for extracting:\n",
    "\n",
    "    negative_collection := []\n",
    "\n",
    "    for i in range(negative_bbox_count):\n",
    "        Select random image.\n",
    "        image_shape := image_shapes[image_index]\n",
    "        image_true_bboxes := true_bboxes[true_bboxes[:, 0] == image_index, 1:]\n",
    "        \n",
    "        for j in TRY_COUNT: # TRY_COUNT is a magic constant, for example, 100\n",
    "            Generate new_bbox within image_shape.\n",
    "            \n",
    "            if new_bbox is negative bbox for image_true_bboxes:\n",
    "                Extract from image, new_bbox and resize to SAMPLE_SIZE negative_sample.\n",
    "                Add negative sample to negative_collection.\n",
    "                Break # for j in TRY_COUNT"
   ]
  },
  {
   "cell_type": "code",
   "execution_count": 31,
   "metadata": {},
   "outputs": [],
   "source": [
    "SAMPLE_SHAPE = (32, 32, 3)"
   ]
  },
  {
   "cell_type": "code",
   "execution_count": 32,
   "metadata": {},
   "outputs": [],
   "source": [
    "from scores import iou_score # https://en.wikipedia.org/wiki/Jaccard_index\n",
    "\n",
    "def is_negative_bbox(new_bbox, true_bboxes, eps=1e-1):\n",
    "    \"\"\"Check if new bbox not in true bbox list.\n",
    "    \n",
    "    There bbox is 4 ints [min_row, min_col, max_row, max_col] without image index.\"\"\"\n",
    "    \n",
    "    for bbox in true_bboxes:\n",
    "        if iou_score(new_bbox, bbox) >= eps:\n",
    "            return False\n",
    "    return True"
   ]
  },
  {
   "cell_type": "code",
   "execution_count": 33,
   "metadata": {},
   "outputs": [],
   "source": [
    "# Write this function\n",
    "def gen_negative_bbox(image_shape,bbox_size=None,):\n",
    "    \"\"\"Generate negative bbox for image.\"\"\"\n",
    "    if not bbox_size:\n",
    "        size=np.random.choice(np.arange(30,41))\n",
    "    else:\n",
    "        size=bbox_size\n",
    "    max_row,max_col=image_shape\n",
    "    \n",
    "    min_row=np.random.choice(np.arange(0,max_row-size))\n",
    "    min_col=np.random.choice(np.arange(0,max_col-size))\n",
    "    \n",
    "    return [min_row,min_col,min_row+size,min_col+size]\n",
    "\n",
    "def get_positive_negative(images, true_bboxes, image_shapes, negative_bbox_count=None):\n",
    "    \"\"\"Retrieve positive and negative samples from image.\"\"\"\n",
    "    positive = []\n",
    "    negative = []\n",
    "    image_count = image_shapes.shape[0]\n",
    "    #first get positive images\n",
    "    for j in range(len(images)):\n",
    "        image=images[j]\n",
    "        true_bboxes_curr=true_bboxes[true_bboxes[:,0]==j][:,1:]\n",
    "        \n",
    "        for box in true_bboxes_curr:\n",
    "            pos_sample=image[box[0]:box[2]+1,box[1]:box[3]+1,:]\n",
    "            pos_sample_resized=cv2.resize(pos_sample,(32,32))\n",
    "            positive.append(pos_sample_resized)\n",
    "    if negative_bbox_count is None:\n",
    "        negative_bbox_count = len(true_bboxes)\n",
    "    i=0\n",
    "    while i<negative_bbox_count:\n",
    "        index=np.random.choice(image_count)\n",
    "        image=images[index]\n",
    "        image_shape=image_shapes[index]\n",
    "        if image_shape[0]<50 or image_shape[1]<50:continue\n",
    "        true_bboxes_curr=true_bboxes[true_bboxes[:,0]==index][:,1:]\n",
    "       \n",
    "        for _ in range(100):\n",
    "            neg_box=gen_negative_bbox(image_shape)\n",
    "            if is_negative_bbox(neg_box,true_bboxes_curr):\n",
    "                neg_sample=image[neg_box[0]:neg_box[2],neg_box[1]:neg_box[3],:]\n",
    "                neg_sample_resized=cv2.resize(neg_sample,(32,32))\n",
    "                negative.append(neg_sample_resized)\n",
    "                i+=1\n",
    "                break\n",
    "   \n",
    "    return positive, negative"
   ]
  },
  {
   "cell_type": "code",
   "execution_count": 34,
   "metadata": {},
   "outputs": [],
   "source": [
    "def get_samples(images, true_bboxes, image_shapes):\n",
    "    \"\"\"Usefull samples for learning.\n",
    "    \n",
    "    X - positive and negative samples.\n",
    "    Y - one hot encoded list of zeros and ones. One is positive marker.\n",
    "    \"\"\"\n",
    "    positive, negative = get_positive_negative(images=images, true_bboxes=true_bboxes, \n",
    "                                               image_shapes=image_shapes)\n",
    "    X = positive\n",
    "    Y = [[0, 1]] * len(positive)\n",
    "    \n",
    "    X.extend(negative)\n",
    "    Y.extend([[1, 0]] * len(negative))\n",
    "    \n",
    "    return np.array(X), np.array(Y)"
   ]
  },
  {
   "cell_type": "markdown",
   "metadata": {},
   "source": [
    "Now we can extract samples from images."
   ]
  },
  {
   "cell_type": "code",
   "execution_count": 35,
   "metadata": {},
   "outputs": [],
   "source": [
    "X_train, Y_train = get_samples(train_images, train_bboxes, train_shapes)\n",
    "X_val, Y_val = get_samples(val_images, val_bboxes, val_shapes)"
   ]
  },
  {
   "cell_type": "code",
   "execution_count": 36,
   "metadata": {},
   "outputs": [
    {
     "data": {
      "image/png": "[encoded data removed]",
      "text/plain": [
       "<Figure size 1080x216 with 5 Axes>"
      ]
     },
     "metadata": {},
     "output_type": "display_data"
    }
   ],
   "source": [
    "# There we should see faces\n",
    "from graph import visualize_samples\n",
    "visualize_samples(X_train[Y_train[:, 1] == 1])"
   ]
  },
  {
   "cell_type": "code",
   "execution_count": 37,
   "metadata": {},
   "outputs": [
    {
     "data": {
      "image/png": "[encoded data removed]",
      "text/plain": [
       "<Figure size 1080x216 with 5 Axes>"
      ]
     },
     "metadata": {},
     "output_type": "display_data"
    }
   ],
   "source": [
    "# There we shouldn't see faces\n",
    "visualize_samples(X_train[Y_train[:, 1] == 0])"
   ]
  },
  {
   "cell_type": "markdown",
   "metadata": {},
   "source": [
    "## Classifier training (3 points)\n",
    "\n",
    "First of all, we should train face classifier that checks if face represented on sample."
   ]
  },
  {
   "cell_type": "code",
   "execution_count": 38,
   "metadata": {},
   "outputs": [],
   "source": [
    "BATCH_SIZE = 64"
   ]
  },
  {
   "cell_type": "markdown",
   "metadata": {},
   "source": [
    "### Image augmentation\n",
    "\n",
    "Important thing in deep learning is augmentation. Sometimes, if your model are complex and cool, you can increase quality by using good augmentation.\n",
    "\n",
    "Keras provide good [images preprocessing and augmentation](https://keras.io/preprocessing/image/). This preprocessing executes online (on the fly) while learning.\n",
    "\n",
    "Of course, if you want using samplewise and featurewise center and std normalization you should run this transformation on predict stage. But you will use this classifier to fully convolution detector, in this case such transformation quite complicated, and we don't recommend use them in classifier.\n",
    "\n",
    "For heavy augmentation you can use library [imgaug](https://github.com/aleju/imgaug). If you need, you can use this library in offline manner (simple way) and online manner (hard way). However, hard way is not so hard: you only have to write [python generator](https://wiki.python.org/moin/Generators), which returns image batches, and pass it to [fit_generator](https://keras.io/models/model/#fit_generator)"
   ]
  },
  {
   "cell_type": "code",
   "execution_count": 39,
   "metadata": {},
   "outputs": [],
   "source": [
    "from keras.preprocessing.image import ImageDataGenerator # Usefull thing. Read the doc.\n",
    "\n",
    "datagen = ImageDataGenerator(horizontal_flip=True,\n",
    "                             width_shift_range=0.2,\n",
    "                             height_shift_range=0.2,\n",
    "                             zoom_range=0.1,\n",
    "                            )\n",
    "datagen.fit(X_train)"
   ]
  },
  {
   "cell_type": "markdown",
   "metadata": {},
   "source": [
    "### Fitting classifier\n",
    "\n",
    "For fitting you can use one of Keras optimizer algorithms. [Good overview](http://ruder.io/optimizing-gradient-descent/)\n",
    "\n",
    "To choose best learning rate strategy you should read about EarlyStopping and ReduceLROnPlateau or LearningRateScheduler on [callbacks](https://keras.io/callbacks/) page of keras documentation, it's very useful in deep learning.\n",
    "\n",
    "If you repeat architecture from some paper, you can find information about good optimizer algorithm and learning rate strategy in this paper. For example, every [keras application](https://keras.io/applications/) has link to paper, that describes suitable learning procedure for this specific architecture."
   ]
  },
  {
   "cell_type": "code",
   "execution_count": 40,
   "metadata": {},
   "outputs": [],
   "source": [
    "import os.path\n",
    "from keras.optimizers import Adam\n",
    "# Very usefull, pay attention\n",
    "from keras.callbacks import ModelCheckpoint, EarlyStopping, ReduceLROnPlateau, LearningRateScheduler\n",
    "\n",
    "from graph import plot_history\n",
    "\n",
    "\n",
    "def fit(model, datagen, X_train, Y_train, X_val, Y_val, model_name=None, output_dir=\"data/checkpoints\", class_weight=None, epochs=50, lr=0.001, verbose=False):\n",
    "    \"\"\"Fit model.\n",
    "    \n",
    "    You can edit this function anyhow.\n",
    "    \"\"\"\n",
    "    \n",
    "    if verbose:\n",
    "        model.summary()\n",
    "\n",
    "    model.compile(optimizer=Adam(lr=lr), # You can use another optimizer\n",
    "                  loss='categorical_crossentropy',\n",
    "                  metrics=['accuracy'])\n",
    "    \n",
    "    \n",
    "    history = model.fit_generator(datagen.flow(X_train, Y_train, batch_size=BATCH_SIZE),\n",
    "                                  validation_data=(datagen.standardize(X_val), Y_val),\n",
    "                                  epochs=epochs, steps_per_epoch=len(X_train) // BATCH_SIZE,\n",
    "                                  callbacks=[ModelCheckpoint(os.path.join(output_dir, \"{model_name}\").format(model_name=model_name) + \"-{epoch:02d}-{val_loss:.2f}.hdf5\", save_best_only=True),\n",
    "                                            ] if model_name is not None else [],\n",
    "                                  class_weight=class_weight,\n",
    "                      \n",
    "                                 )  # starts training\n",
    "    \n",
    "    plot_history(history)"
   ]
  },
  {
   "cell_type": "markdown",
   "metadata": {},
   "source": [
    "#### (first point out of three)\n",
    "\n",
    "![lenet architecture](lenet_architecture.png)\n",
    "LeCun, Y., Bottou, L., Bengio, Y. and Haffner, P., 1998. Gradient-based learning applied to document recognition. Proceedings of the IEEE, 86(11), pp.2278-2324.\n",
    "\n",
    "Of course, you can use any another architecture, if want. Main thing is classification quality of your model.\n",
    "\n",
    "Acceptable validation accuracy for this task is 0.92."
   ]
  },
  {
   "cell_type": "code",
   "execution_count": 41,
   "metadata": {},
   "outputs": [],
   "source": [
    "import keras\n",
    "from keras.models import Model, Sequential\n",
    "from keras.layers import Flatten, Dense, Activation, Input, Dropout, Activation, BatchNormalization\n",
    "from keras.layers import Conv2D, MaxPooling2D, GlobalAveragePooling2D\n",
    "\n",
    "def generate_model(sample_shape):\n",
    "    # Classification model\n",
    "    model = keras.applications.mobilenet.MobileNet(include_top=False, input_shape=sample_shape,\n",
    "                                          weights=None)\n",
    "    \n",
    "    x = GlobalAveragePooling2D()(model.output)\n",
    "    \n",
    "    predictions = Dense(2, activation='softmax')(x)\n",
    "    \n",
    "    return Model(inputs=model.inputs, outputs=predictions)\n",
    "\n",
    "model = generate_model(SAMPLE_SHAPE)"
   ]
  },
  {
   "cell_type": "markdown",
   "metadata": {},
   "source": [
    "#### Fit the model (second point out of three)\n",
    "\n",
    "If you doesn't have fast video-card suitable for deep learning, you can first check neural network modifications with small value of parameter `epochs`, for example, 10, and then after selecting best model increase this parameter.\n",
    "Fitting on CPU can be long, we suggest do it at bedtime.\n",
    "\n",
    "Don't forget change model name."
   ]
  },
  {
   "cell_type": "code",
   "execution_count": null,
   "metadata": {},
   "outputs": [],
   "source": [
    "#train on gpu cluster and load weights later\n",
    "fit(model_name=\"mobilenet\", model=model, datagen=datagen, X_train=X_train, X_val=X_val, Y_train=Y_train, Y_val=Y_val,verbose=True)"
   ]
  },
  {
   "cell_type": "code",
   "execution_count": 47,
   "metadata": {},
   "outputs": [
    {
     "data": {
      "image/png": "[encoded data removed]",
      "text/plain": [
       "<Figure size 432x288 with 1 Axes>"
      ]
     },
     "metadata": {},
     "output_type": "display_data"
    },
    {
     "data": {
      "image/png": "[encoded data removed]",
      "text/plain": [
       "<Figure size 432x288 with 1 Axes>"
      ]
     },
     "metadata": {},
     "output_type": "display_data"
    }
   ],
   "source": [
    "#plot loss and accuracy, custom function\n",
    "from graph import plot_history2\n",
    "plot_history2()"
   ]
  },
  {
   "cell_type": "markdown",
   "metadata": {},
   "source": [
    "#### (third point out of three)\n",
    "\n",
    "After learning model weights saves in folder `data/checkpoints/`.\n",
    "Use `model.load_weights(fname)` to load best weights.\n",
    "\n",
    "If you use Windows and Model Checkpoint doesn't work on your configuration, you should implement [your own Callback](https://keras.io/callbacks/#create-a-callback) to save best weights in memory and then load it back."
   ]
  },
  {
   "cell_type": "code",
   "execution_count": 48,
   "metadata": {},
   "outputs": [],
   "source": [
    "def get_checkpoint():\n",
    "    return \"data/checkpoints/mobilenet-43-0.09.hdf5\"\n",
    "\n",
    "model.load_weights(get_checkpoint())"
   ]
  },
  {
   "cell_type": "markdown",
   "metadata": {},
   "source": [
    "## Detection\n",
    "\n",
    "If you have prepared classification architecture with high validation score, you can use this architecture for detection.\n",
    "\n",
    "Convert classification architecture to fully convolution neural network (FCNN), that returns heatmap of activation.\n",
    "\n",
    "### Detector model or sliding window (1 point)\n",
    "\n",
    "Now you should replace fully-connected layers with $1 \\times 1$ convolution layers.\n",
    "\n",
    "Every fully connected layer perform operation $f(Wx + b)$, where $f(\\cdot)$ is nonlinear activation function, $x$ is layer input, $W$ and $b$ is layer weights. This operation can be emulated with $1 \\times 1$ convolution with activation function $f(\\cdot)$, that perform exactly same operation $f(Wx + b)$.\n",
    "\n",
    "If there is `Flatten` layer with $n \\times k$ input size before fully connected layers, convolution should have same $n \\times k$ input size.\n",
    "Multiple fully connected layers can be replaced with convolution layers sequence.\n",
    "\n",
    "After replace all fully connected layers with convolution layers, we get fully convolution network. If input shape is equal to input size of previous network, output will have size $1 \\times 1$. But if we increase input shape, output shape automatically will be increased. For example, if convolution step of previous network strides 4 pixels, increase input size with 100 pixels along all axis makes increase outputsize with 25 values along all axis. We got activation map of classifier without necessary extract samples from image and multiple calculate low-level features.\n",
    "\n",
    "In total:\n",
    "1. $1 \\times 1$ convolution layer is equivalent of fully connected layer.\n",
    "2. $1 \\times 1$ convolution layers can be used to get activation map of classification network in \"sliding window\" manner.\n",
    "\n",
    "We propose replace last fully connected layer with softmax actiovation to convolution layer with linear activation.It will be usefull to find good treshold. Of course, you can use softmax activation.\n",
    "\n",
    "#### Example of replace cnn head:\n",
    "\n",
    "##### Head before convert\n",
    "\n",
    "![before replace image](before_convert.png)\n",
    "\n",
    "##### Head after convert\n",
    "\n",
    "![before replace image](after_convert.png)\n",
    "\n",
    "On this images displayed only head. `InputLayer` should be replaced with convolution part exit.\n",
    "Before convert network head takes fifty $8 \\times 8$ feature maps and returns two values: probability of negative and positive classes. This output can be considered as activation map with size $1 \\times 1$.\n",
    "\n",
    "If input have size $8 \\times 8$, output after convert would have $1 \\times 1$ size, but input size is $44 \\times 44$.\n",
    "After convert network head returns one $37 \\times 37$ activation map."
   ]
  },
  {
   "cell_type": "code",
   "execution_count": null,
   "metadata": {},
   "outputs": [],
   "source": [
    "# FCNN\n",
    "\n",
    "IMAGE_SHAPE = (176, 176, 3)\n",
    "\n",
    "def generate_fcnn_model(image_shape):\n",
    "    \"\"\"After model compilation input size cannot be changed.\n",
    "    \n",
    "    So, we need create a function to have ability to change size later.\n",
    "    \"\"\"\n",
    "    x = inputs = Input(image_shape)\n",
    "\n",
    "    # Write code here\n",
    "    # ...\n",
    "\n",
    "    # This creates a model\n",
    "    predictions = Conv2D(2, (1, 1), activation='linear')(x)\n",
    "    return Model(inputs=inputs, outputs=predictions)\n",
    "\n",
    "fcnn_model = generate_fcnn_model(IMAGE_SHAPE)"
   ]
  },
  {
   "cell_type": "markdown",
   "metadata": {},
   "source": [
    "#### (1 point)\n",
    "\n",
    "Then you should write function that copy weights from classification model to fully convolution model.\n",
    "Convolution weights may be copied without modification, fully-connected layer weights should be reshaped before copy.\n",
    "\n",
    "Pay attention to last layer."
   ]
  },
  {
   "cell_type": "code",
   "execution_count": null,
   "metadata": {},
   "outputs": [],
   "source": [
    "def copy_weights(base_model, fcnn_model):\n",
    "    \"\"\"Set FCNN weights from base model.\n",
    "    \"\"\"\n",
    "    \n",
    "    new_fcnn_weights = []\n",
    "    prev_fcnn_weights = fcnn_model.get_weights()\n",
    "    prev_base_weights = base_model.get_weights()\n",
    "    \n",
    "    # Write code here\n",
    "    # ...\n",
    "        \n",
    "    fcnn_model.set_weights(new_fcnn_weights)\n",
    "\n",
    "copy_weights(base_model=model, fcnn_model=fcnn_model)"
   ]
  },
  {
   "cell_type": "markdown",
   "metadata": {},
   "source": [
    "### Model visualization"
   ]
  },
  {
   "cell_type": "code",
   "execution_count": null,
   "metadata": {},
   "outputs": [],
   "source": [
    "from graph import visualize_heatmap"
   ]
  },
  {
   "cell_type": "code",
   "execution_count": null,
   "metadata": {},
   "outputs": [],
   "source": [
    "predictions = fcnn_model.predict(np.array(val_images))\n",
    "visualize_heatmap(val_images, predictions[:, :, :, 1])"
   ]
  },
  {
   "cell_type": "markdown",
   "metadata": {},
   "source": [
    "### Detector (1 point)\n",
    "\n",
    "First detector part is getting bboxes and decision function.\n",
    "Greater decision function indicates better detector confidence.\n",
    "\n",
    "This function should return pred_bboxes and decision_function:\n",
    "\n",
    "- `pred bboxes` is list of 5 int tuples like `true bboxes`: `[image_index, min_row, min_col, max_row, max_col]`.\n",
    "- `decision function` is confidence of detector for every pred bbox: list of float values, `len(decision function) == len(pred bboxes)` \n",
    " \n",
    "We propose resize image to `IMAGE_SHAPE` size, find faces on resized image with `SAMPLE_SHAPE` size and then resize them back."
   ]
  },
  {
   "cell_type": "code",
   "execution_count": null,
   "metadata": {},
   "outputs": [],
   "source": [
    "# Detection\n",
    "from skimage.feature import peak_local_max\n",
    "\n",
    "def get_bboxes_and_decision_function(fcnn_model, images, image_shapes):      \n",
    "    cropped_images = np.array([transform.resize(image, IMAGE_SHAPE, mode=\"reflect\")  if image.shape != IMAGE_SHAPE else image for image in images])\n",
    "    pred_bboxes, decision_function = [], []\n",
    "   \n",
    "    # Predict\n",
    "    predictions = fcnn_model.predict(cropped_images)\n",
    "\n",
    "    # Write code here\n",
    "    # ...\n",
    "        \n",
    "    return pred_bboxes, decision_function"
   ]
  },
  {
   "cell_type": "markdown",
   "metadata": {},
   "source": [
    "#### Detector visualization"
   ]
  },
  {
   "cell_type": "code",
   "execution_count": null,
   "metadata": {},
   "outputs": [],
   "source": [
    "pred_bboxes, decision_function = get_bboxes_and_decision_function(fcnn_model=fcnn_model, images=val_images, image_shapes=val_shapes)\n",
    "\n",
    "visualize_bboxes(images=val_images,\n",
    "                 pred_bboxes=pred_bboxes,\n",
    "                 true_bboxes=val_bboxes,\n",
    "                 decision_function=decision_function\n",
    "                )"
   ]
  },
  {
   "cell_type": "markdown",
   "metadata": {},
   "source": [
    "## Detector score (1 point)\n",
    "\n",
    "Write [precision and recall](https://en.wikipedia.org/wiki/Precision_and_recall) graph.\n",
    "\n",
    "You can use function `best_match` to extract matching between prediction and ground truth, false positive and false negative samples. Pseudo-code for calculation precision and recall graph:\n",
    "    \n",
    "    # Initialization for first step threshold := -inf\n",
    "    tn := 0 # We haven't any positive sample\n",
    "    fn := |false_negative| # But some faces wasn't been detected\n",
    "    tp := |true_bboxes| # All true bboxes have been caught\n",
    "    fp := |false_positive| # But also some false positive samples have been caught\n",
    "    \n",
    "    Sort decision_function and pred_bboxes with order defined by decision_function\n",
    "    y_true := List of answers for \"Is the bbox have matching in y_true?\" for every bbox in pred_bboxes\n",
    "    \n",
    "    for y_on_this_step in y_true:\n",
    "        # Now we increase threshold, so some predicted bboxes makes positive.\n",
    "        # If y_t is True then the bbox is true positive else bbox is false positive\n",
    "        # So we should\n",
    "        Update tp, tn, fp, fn with attention to y_on_this_step\n",
    "        \n",
    "        Add precision and recall point calculated by formula through tp, tn, fp, fn on this step\n",
    "        Threshold for this point is decision function on this step."
   ]
  },
  {
   "cell_type": "code",
   "execution_count": null,
   "metadata": {},
   "outputs": [],
   "source": [
    "from scores import best_match\n",
    "from graph import plot_precision_recall\n",
    "\n",
    "def precision_recall_curve(pred_bboxes, true_bboxes, decision_function):\n",
    "    precision, recall, thresholds = [], [], []\n",
    "    \n",
    "    # Write code here\n",
    "    \n",
    "    return precision, recall, thresholds"
   ]
  },
  {
   "cell_type": "code",
   "execution_count": null,
   "metadata": {},
   "outputs": [],
   "source": [
    "precision, recall, thresholds = precision_recall_curve(pred_bboxes=pred_bboxes, true_bboxes=val_bboxes, decision_function=decision_function)\n",
    "plot_precision_recall(precision=precision, recall=recall)"
   ]
  },
  {
   "cell_type": "markdown",
   "metadata": {},
   "source": [
    "### Threshold (1 point)\n",
    "\n",
    "Next step in detector creating is select threshold for decision_function.\n",
    "Every possible threshold presents point on recall-precision graph.\n",
    "\n",
    "Select threshold for `recall=0.85`."
   ]
  },
  {
   "cell_type": "code",
   "execution_count": null,
   "metadata": {},
   "outputs": [],
   "source": [
    "def get_threshold(thresholds, recall):\n",
    "    return ... # Write this code\n",
    "\n",
    "THRESHOLD = get_threshold(thresholds, recall)"
   ]
  },
  {
   "cell_type": "code",
   "execution_count": null,
   "metadata": {},
   "outputs": [],
   "source": [
    "def detect(fcnn_model, images, image_shapes, threshold, return_decision=True):\n",
    "    \"\"\"Get bboxes with decision_function not less then threshold.\"\"\"\n",
    "    pred_bboxes, decision_function = get_bboxes_and_decision_function(fcnn_model, images, image_shapes)   \n",
    "    result, result_decision = [], []\n",
    "    \n",
    "    # Write code here\n",
    "    # ...\n",
    "    \n",
    "    if return_decision:\n",
    "        return result, result_decision\n",
    "    else:\n",
    "        return result"
   ]
  },
  {
   "cell_type": "code",
   "execution_count": null,
   "metadata": {},
   "outputs": [],
   "source": [
    "pred_bboxes, decision_function = detect(fcnn_model=fcnn_model, images=val_images, image_shapes=val_shapes, threshold=THRESHOLD, return_decision=True)\n",
    "\n",
    "visualize_bboxes(images=val_images,\n",
    "                 pred_bboxes=pred_bboxes,\n",
    "                 true_bboxes=val_bboxes,\n",
    "                 decision_function=decision_function\n",
    "                )\n",
    "\n",
    "precision, recall, thresholds = precision_recall_curve(pred_bboxes=pred_bboxes, true_bboxes=val_bboxes, decision_function=decision_function)\n",
    "plot_precision_recall(precision=precision, recall=recall)"
   ]
  },
  {
   "cell_type": "markdown",
   "metadata": {},
   "source": [
    "## Test dataset (1 point)\n",
    "\n",
    "Last detector preparation step is testing.\n",
    "\n",
    "Attention: to avoid over-fitting, after testing algorithm you should run [./prepare_data.ipynb](prepare_data.ipynb), and start all fitting from beginning.\n",
    "\n",
    "Detection score (in graph header) should be 0.85 or greater."
   ]
  },
  {
   "cell_type": "code",
   "execution_count": null,
   "metadata": {},
   "outputs": [],
   "source": [
    "test_images, test_bboxes, test_shapes = load_dataset(\"data\", \"test\")\n",
    "\n",
    "# We test get_bboxes_and_decision_function becouse we want pay attention to all recall values\n",
    "pred_bboxes, decision_function = get_bboxes_and_decision_function(fcnn_model=fcnn_model, images=test_images, image_shapes=test_shapes)\n",
    "\n",
    "visualize_bboxes(images=test_images,\n",
    "                 pred_bboxes=pred_bboxes,\n",
    "                 true_bboxes=test_bboxes,\n",
    "                 decision_function=decision_function\n",
    "                )\n",
    "\n",
    "precision, recall, threshold = precision_recall_curve(pred_bboxes=pred_bboxes, true_bboxes=test_bboxes, decision_function=decision_function)\n",
    "plot_precision_recall(precision=precision, recall=recall)"
   ]
  },
  {
   "cell_type": "markdown",
   "metadata": {},
   "source": [
    "## Optional tasks\n",
    "\n",
    "### Real image dataset\n",
    "\n",
    "Test your algorithm on original (not scaled) data.\n",
    "Visualize bboxes and plot precision-recall curve."
   ]
  },
  {
   "cell_type": "code",
   "execution_count": null,
   "metadata": {},
   "outputs": [],
   "source": [
    "# First run will download 523 MB data from github\n",
    "\n",
    "original_images, original_bboxes, original_shapes = load_dataset(\"data\", \"original\")"
   ]
  },
  {
   "cell_type": "code",
   "execution_count": null,
   "metadata": {},
   "outputs": [],
   "source": [
    "# Write code here\n",
    "# ...\n"
   ]
  },
  {
   "cell_type": "markdown",
   "metadata": {},
   "source": [
    "## Hard negative mining\n",
    "\n",
    "Upgrade the score with [hard negative mining](https://www.reddit.com/r/computervision/comments/2ggc5l/what_is_hard_negative_mining_and_how_is_it/).\n",
    "\n",
    "A hard negative is when you take that falsely detected patch, and explicitly create a negative example out of that patch, and add that negative to your training set. When you retrain your classifier, it should perform better with this extra knowledge, and not make as many false positives."
   ]
  },
  {
   "cell_type": "code",
   "execution_count": null,
   "metadata": {},
   "outputs": [],
   "source": [
    "# Write this function\n",
    "def hard_negative(train_images, image_shapes, train_bboxes, X_val, Y_val, base_model, fcnn_model):\n",
    "    pass"
   ]
  },
  {
   "cell_type": "code",
   "execution_count": null,
   "metadata": {},
   "outputs": [],
   "source": [
    "hard_negative(train_images=train_images, image_shapes=train_shapes, train_bboxes=train_bboxes, X_val=X_val, Y_val=Y_val, base_model=model, fcnn_model=fcnn_model)"
   ]
  },
  {
   "cell_type": "code",
   "execution_count": null,
   "metadata": {},
   "outputs": [],
   "source": [
    "model.load_weights(\"data/checkpoints/...\")"
   ]
  },
  {
   "cell_type": "code",
   "execution_count": null,
   "metadata": {},
   "outputs": [],
   "source": [
    "copy_weights(base_model=model, fcnn_model=fcnn_model)\n",
    "\n",
    "pred_bboxes, decision_function = get_bboxes_and_decision_function(fcnn_model=fcnn_model, images=val_images, image_shapes=val_shapes)\n",
    "\n",
    "visualize_bboxes(images=val_images,\n",
    "                 pred_bboxes=pred_bboxes,\n",
    "                 true_bboxes=val_bboxes,\n",
    "                 decision_function=decision_function\n",
    "                )\n",
    "\n",
    "precision, recall, thresholds = precision_recall_curve(pred_bboxes=pred_bboxes, true_bboxes=val_bboxes, decision_function=decision_function)\n",
    "plot_precision_recall(precision=precision, recall=recall)"
   ]
  },
  {
   "cell_type": "markdown",
   "metadata": {
    "collapsed": true
   },
   "source": [
    "### Multi scale detector\n",
    "\n",
    "Write and test detector with [pyramid representation][pyramid].\n",
    "[pyramid]: https://en.wikipedia.org/wiki/Pyramid_(image_processing)\n",
    "\n",
    "1. Resize images to predefined scales.\n",
    "2. Run detector with different scales.\n",
    "3. Apply non-maximum supression to detection on different scales.\n",
    "\n",
    "References:\n",
    "1. [E. H. Adelson,C. H. Anderson, J. R. Bergen, P. J. Burt, J. M. Ogden: Pyramid methods in image processing](http://persci.mit.edu/pub_pdfs/RCA84.pdf)\n",
    "2. [PETER J. BURT, EDWARD H. ADELSON: The Laplacian Pyramid as a Compact Image Code](http://persci.mit.edu/pub_pdfs/pyramid83.pdf)"
   ]
  },
  {
   "cell_type": "code",
   "execution_count": null,
   "metadata": {},
   "outputs": [],
   "source": [
    "def multiscale_detector(fcnn_model, images, image_shapes):\n",
    "    return []"
   ]
  },
  {
   "cell_type": "markdown",
   "metadata": {
    "collapsed": true
   },
   "source": [
    "### Next  step\n",
    "\n",
    "Next steps in deep learning detection are R-CNN, Faster R-CNN and SSD architectures.\n",
    "This architecture realization is quite complex.\n",
    "For this reason the task doesn't cover them, but you can find the articles in the internet."
   ]
  }
 ],
 "metadata": {
  "kernelspec": {
   "display_name": "Python 3",
   "language": "python",
   "name": "python3"
  },
  "language_info": {
   "codemirror_mode": {
    "name": "ipython",
    "version": 3
   },
   "file_extension": ".py",
   "mimetype": "text/x-python",
   "name": "python",
   "nbconvert_exporter": "python",
   "pygments_lexer": "ipython3",
   "version": "3.6.2"
  }
 },
 "nbformat": 4,
 "nbformat_minor": 2
}
